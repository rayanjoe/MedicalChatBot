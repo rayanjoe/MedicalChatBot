{
 "cells": [
  {
   "cell_type": "code",
   "execution_count": 12,
   "metadata": {},
   "outputs": [],
   "source": [
    "import pandas as pd\n",
    "\n",
    "load_dataset = pd.read_csv('./data/medquad.csv')"
   ]
  },
  {
   "cell_type": "markdown",
   "metadata": {},
   "source": [
    "In this markdown will be handling the dataset"
   ]
  },
  {
   "cell_type": "code",
   "execution_count": 14,
   "metadata": {},
   "outputs": [
    {
     "data": {
      "text/plain": [
       "'Cleaned dataset has been saved in the data folder in the root directory'"
      ]
     },
     "execution_count": 14,
     "metadata": {},
     "output_type": "execute_result"
    }
   ],
   "source": [
    "def clean_data(df):\n",
    "    if df is None: print(\"Load the dataset\")\n",
    "    df_other = df[['source', 'focus_area']]\n",
    "    df_train = df[['question', 'answer']]\n",
    "    df_train = df_train.dropna()\n",
    "    df_train.to_csv('./data/cleaned_file.csv', index=False)\n",
    "    df_other.to_csv('./data/othes.csv', index=False)\n",
    "    return \"Cleaned dataset has been saved in the data folder in the root directory\"\n",
    "\n",
    "clean_data(df= load_dataset)"
   ]
  }
 ],
 "metadata": {
  "kernelspec": {
   "display_name": "cuda_test",
   "language": "python",
   "name": "python3"
  },
  "language_info": {
   "codemirror_mode": {
    "name": "ipython",
    "version": 3
   },
   "file_extension": ".py",
   "mimetype": "text/x-python",
   "name": "python",
   "nbconvert_exporter": "python",
   "pygments_lexer": "ipython3",
   "version": "3.11.11"
  }
 },
 "nbformat": 4,
 "nbformat_minor": 2
}
