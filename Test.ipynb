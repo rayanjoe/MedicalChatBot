{
 "cells": [
  {
   "cell_type": "code",
   "execution_count": null,
   "metadata": {},
   "outputs": [],
   "source": [
    "import subprocess\n",
    "import sys\n",
    "from typing import List\n",
    "\n",
    "HYPEN_E_DOT = '-e .'#in requirements.txt will be having this line, this will terminate the process.\n",
    "\n",
    "def get_requirements(file_path) ->List[str]:\n",
    "    \n",
    "    \"\"\"\n",
    "    This function will return the list of requirments\n",
    "    \"\"\"\n",
    "    requirements = []\n",
    "    with open(file_path) as file_obj:\n",
    "        requirements = file_obj.readlines()\n",
    "        requirements = [req.replace(\"\\n\", \" \") for req in requirements]\n",
    "        \n",
    "        if HYPEN_E_DOT is requirements:\n",
    "            requirements.remove(HYPEN_E_DOT)\n",
    "            \n",
    "    return requirements\n",
    "\n",
    "required_packages = get_requirements('requirments.txt')\n",
    "\n",
    "def install_package(package):\n",
    "    \"\"\"Install a package using pip.\"\"\"\n",
    "    subprocess.check_call([sys.executable, \"-m\", \"pip\", \"install\", package])\n",
    "\n",
    "def check_and_install_packages(packages):\n",
    "    \"\"\"Check if packages are installed and install missing ones.\"\"\"\n",
    "    for package in packages:\n",
    "        try:\n",
    "            \n",
    "#Importing package\n",
    "            __import__(package)\n",
    "            print(f\"{package} is already installed.\")\n",
    "        except ImportError:\n",
    "#if package is not installed it will install\n",
    "            print(f\"{package} is not installed. Installing...\")\n",
    "            install_package(package)\n",
    "\n",
    "\n",
    "check_and_install_packages(required_packages)"
   ]
  },
  {
   "cell_type": "code",
   "execution_count": 1,
   "metadata": {},
   "outputs": [
    {
     "name": "stdout",
     "output_type": "stream",
     "text": [
      "CUDA is available! Using GPU: NVIDIA GeForce RTX 4070 Laptop GPU\n",
      "CPU computation time: 8.4733 seconds\n",
      "GPU computation time: 0.5117 seconds\n",
      "Speedup: 16.56x\n"
     ]
    }
   ],
   "source": [
    "import torch\n",
    "import time\n",
    "\n",
    "# Check if CUDA (GPU) is available\n",
    "if torch.cuda.is_available():\n",
    "    device = torch.device(\"cuda\")  # Use GPU\n",
    "    print(\"CUDA is available! Using GPU:\", torch.cuda.get_device_name(0))\n",
    "else:\n",
    "    device = torch.device(\"cpu\")  # Use CPU\n",
    "    print(\"CUDA is not available. Using CPU.\")\n",
    "\n",
    "# Create a large tensor\n",
    "size = (10000, 10000)  # Adjust size based on your GPU memory\n",
    "tensor_cpu = torch.randn(size)  # Create tensor on CPU\n",
    "tensor_gpu = tensor_cpu.to(device)  # Move tensor to GPU\n",
    "\n",
    "# Test performance on CPU\n",
    "start_time = time.time()\n",
    "result_cpu = tensor_cpu @ tensor_cpu.T  # Matrix multiplication\n",
    "cpu_time = time.time() - start_time\n",
    "print(f\"CPU computation time: {cpu_time:.4f} seconds\")\n",
    "\n",
    "# Test performance on GPU\n",
    "if torch.cuda.is_available():\n",
    "    start_time = time.time()\n",
    "    result_gpu = tensor_gpu @ tensor_gpu.T  # Matrix multiplication\n",
    "    torch.cuda.synchronize()  # Wait for GPU to finish\n",
    "    gpu_time = time.time() - start_time\n",
    "    print(f\"GPU computation time: {gpu_time:.4f} seconds\")\n",
    "    print(f\"Speedup: {cpu_time / gpu_time:.2f}x\")\n",
    "else:\n",
    "    print(\"GPU not available for computation.\")"
   ]
  },
  {
   "cell_type": "code",
   "execution_count": 2,
   "metadata": {},
   "outputs": [
    {
     "name": "stdout",
     "output_type": "stream",
     "text": [
      "True\n",
      "11.8\n",
      "NVIDIA GeForce RTX 4070 Laptop GPU\n"
     ]
    }
   ],
   "source": [
    "import torch\n",
    "print(torch.cuda.is_available())  # Should return True\n",
    "print(torch.version.cuda)         # Should match your system's CUDA version\n",
    "print(torch.cuda.get_device_name(0))  # Should print your GPU name"
   ]
  }
 ],
 "metadata": {
  "kernelspec": {
   "display_name": "cuda_test",
   "language": "python",
   "name": "python3"
  },
  "language_info": {
   "codemirror_mode": {
    "name": "ipython",
    "version": 3
   },
   "file_extension": ".py",
   "mimetype": "text/x-python",
   "name": "python",
   "nbconvert_exporter": "python",
   "pygments_lexer": "ipython3",
   "version": "3.11.11"
  }
 },
 "nbformat": 4,
 "nbformat_minor": 2
}
